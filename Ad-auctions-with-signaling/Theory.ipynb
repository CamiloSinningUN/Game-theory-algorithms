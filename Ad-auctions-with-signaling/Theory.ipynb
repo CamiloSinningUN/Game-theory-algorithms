{
 "cells": [
  {
   "cell_type": "markdown",
   "metadata": {},
   "source": [
    "# VCG mechanism in Bayesian ad auctions with signaling\n",
    "\n",
    "## Preliminars\n",
    "\n",
    "The model setting for ad auctions is:\n",
    "\n",
    "* Players: $N = \\{1, ..., n\\}$\n",
    "* Ads: $A = \\{a_1, ..., a_n\\}$\n",
    "* Type space: $Q = \\{q_1,..., q_n:q_i \\in [0,1]\\}$ (Value that a player gives to a click in their ad)\n",
    "* Slots: $S = \\{s_1,...,s_k\\}$\n",
    "* Slot prominence: $Λ = \\{λ_1,...,λ_k:  λ_i \\in [0,1], λ_i \\geq λ_{i+1}\\}$\n",
    "* Valuation function: $v_i(k,\\theta_i) = \\begin{cases}\n",
    "    λ_j*q_i*θ_i,& \\text{if } a_i \\text{ allocated in } s_j \\text{ is in } k\\\\\n",
    "    0,              & \\text{otherwise}\n",
    "\\end{cases}$\n",
    "\n",
    "## Our setting\n",
    " > Notation may change\n",
    "\n",
    "* Players (Bidders): $N = \\{1, ..., n\\}$\n",
    "* Slots: $M = \\{m_1, ..., m_m\\}$; where m < n\n",
    "* Slot prominence: $Λ = \\{λ_1, ..., λ_k:  λ_i \\in [0,1], λ_i \\geq λ_{i+1}\\}$ (In this setting $λ_i$ corresponds to the click through rate which in the previous setting was $λ_i*q_i$)\n",
    "* States of nature: $Σ = \\{σ_1, ..., σ_d\\}$\n",
    "* Type space: $Θ = \\{θ_1(σ), ..., θ_n(σ):θ_i \\in [0,1]\\}$  (Value that a player gives to a click in their ad depending on the state of nature)\n",
    "* Valuation function: $v_i(k,\\theta_i) = \\begin{cases}\n",
    "    λ_j*θ_i,& \\text{if } a_i \\text{ allocated in } s_j \\text{ is in } k\\\\\n",
    "    0,              & \\text{otherwise}\n",
    "\\end{cases}$\n",
    "* Signals: $S = \\{s_1, ..., s_h\\}$\n",
    "* Signaling scheme $ϕ: Σ \\to Δ_S$\n",
    "* Common prior distribution of states: $\\mu$ where $\\mu \\in \\Delta_Σ$\n",
    "\n",
    "We assume that: \n",
    "- $\\sigma \\sim \\mu$. \n",
    "- $\\mu_\\sigma = prob_\\mu(\\sigma)\\ \\ ∀ σ \\in Σ$. \n",
    "- $ \\phi_\\sigma(s)$ is the probability of sending signal $s$ when the state of nature is $\\sigma \\in Σ$.\n",
    "- The signal is public, therefore all bidders have access to it.\n",
    "\n",
    "The interaction is as follows:\n",
    "\n",
    "![timeline.png](<./timeline.png>)\n",
    "\n",
    "**Computation of posterior distribution**\n",
    "\n",
    "The bidders compute their posterior distribution $\\xi$ given the signal using bayes rule:\n",
    "\\begin{equation}\n",
    "\\xi_s(\\sigma) = \\frac{\\mu_\\sigma \\phi_\\sigma(s)}{\\sum_{\\sigma' \\in \\Sigma} \\mu_{\\sigma'} \\phi_{\\sigma'}(s)}.\n",
    "\\end{equation}\n",
    "\n",
    "Since we are considering the case in which the auctioneer uses a VCG mechanism the bidders will report it's expected value given $\\xi$, so each bidders reports:\n",
    "\n",
    "\\begin{equation}\n",
    "\\xi_s^\\top \\theta_i = \\sum_{\\sigma \\in \\Sigma} \\theta_i(\\sigma) \\xi_s(\\sigma).\n",
    "\\end{equation}\n",
    "\n",
    "The total overall revenue of the auctionee is:\n",
    "\n",
    "\\begin{equation}\n",
    "\\text{Rev}(\\Theta, \\xi) = \\sum_{j=1}^m j \\left( \\sum_{\\sigma \\in \\Sigma} \\xi_s(\\sigma) \\theta_{j+1}(\\sigma) \\right) (\\lambda_j - \\lambda_{j+1}),\n",
    "\\end{equation}\n",
    "\n",
    "where $\\lambda_{m+1} = 0$\n",
    "\n",
    "> The signaling scheme is a degree of freedom that the auctioneer can use to maximize revenue\n",
    "\n",
    "\n",
    "\n"
   ]
  },
  {
   "cell_type": "code",
   "execution_count": 1,
   "metadata": {},
   "outputs": [],
   "source": [
    "from amplpy import AMPL\n",
    "import pandas as pd\n",
    "import matplotlib.pyplot as plt\n",
    "import matplotlib.colors as mcolors\n",
    "import numpy as np\n",
    "import math\n",
    "from itertools import permutations"
   ]
  },
  {
   "cell_type": "code",
   "execution_count": 2,
   "metadata": {},
   "outputs": [],
   "source": [
    "def posterior(signal, state, Prior, Likelihood, States):\n",
    "    return Prior.loc[state, 0]*Likelihood.loc[state, signal]/sum([Prior.loc[state_p, 0]*Likelihood.loc[state_p, signal] for state_p in States])  \n",
    "\n",
    "def bid(bidder, Posterior, Theta, States):\n",
    "    return sum([Theta.loc[bidder, state]*Posterior[state] for state in States])\n",
    "\n",
    "def allocate(Bids, Slots):\n",
    "    ordered_bids = sorted(Bids, reverse=True)\n",
    "    return [ordered_bids[bid] for bid in range(len(Slots))]\n",
    "\n",
    "def order_theta(Theta_df, Bids):\n",
    "    Theta_df['Bid'] = Bids\n",
    "    Theta_df = Theta_df.sort_values(by='Bid', ascending=False)\n",
    "    Theta_df = Theta_df.drop(columns=['Bid'])\n",
    "    Theta_df = Theta_df.reset_index(drop=True)\n",
    "    return Theta_df\n",
    "\n",
    "def revenue(Slots, States, Posterior, Theta, Promminence):\n",
    "    Promminence.append(0)\n",
    "    revenue = 0\n",
    "    for j in range(len(Slots)):\n",
    "        inner_sum = 0\n",
    "        for state in States:\n",
    "            inner_sum += Posterior[state]*Theta.loc[j+1, state]\n",
    "        revenue += (j+1)*inner_sum*(Promminence[j] - Promminence[j+1])\n",
    "    return revenue"
   ]
  },
  {
   "cell_type": "code",
   "execution_count": 3,
   "metadata": {},
   "outputs": [],
   "source": [
    "def gamma(Posterior, Signals, States, Prior, Likelihood):\n",
    "    gamma = 0\n",
    "    for signal in Signals:\n",
    "        inner_sum = 0\n",
    "        for state in States:\n",
    "            inner_sum += Prior.loc[state, 0]*Likelihood.loc[state, signal]\n",
    "        gamma += inner_sum if [posterior(signal, state_p, Prior, Likelihood, States) for state_p in States] == Posterior else 0\n",
    "        \n",
    "    return gamma\n",
    "\n",
    "def check_gamma(States, Posteriors, Signals, Prior, Likelihood):\n",
    "    for state in States:\n",
    "        mu = 0\n",
    "        for posterior in Posteriors:\n",
    "            mu += posterior[state]*gamma(posterior, Signals, States, Prior, Likelihood) \n",
    "        if mu != Prior.loc[state, 0]:\n",
    "            raise ValueError('Gamma not good')"
   ]
  },
  {
   "cell_type": "code",
   "execution_count": 4,
   "metadata": {},
   "outputs": [],
   "source": [
    "Bidders = [0, 1]\n",
    "States = [0, 1, 2]\n",
    "Slots = [0]\n",
    "Promminence = [1] \n",
    "Prior = [1/len(States) for i in States] # uniform prior\n",
    "Theta = [[0.9, 0.1, 0.9], \n",
    "        [0.9, 0.9, 0.1]]\n",
    "\n",
    "Prior_df = pd.DataFrame(Prior, index=States)\n",
    "Theta_df = pd.DataFrame(Theta, index=Bidders, columns=States)"
   ]
  },
  {
   "cell_type": "markdown",
   "metadata": {},
   "source": [
    "> ϕ can be represented as a matrix\n",
    " \n",
    "## **No strategic signaling**: \n",
    "### **State is revealed**\n",
    "  - The is the same amount of signals than states\n",
    "  - ϕ is a square diagonal matrix"
   ]
  },
  {
   "cell_type": "code",
   "execution_count": 5,
   "metadata": {},
   "outputs": [],
   "source": [
    "# Truthful state\n",
    "Signals = States.copy()\n",
    "\n",
    "Phi = np.diag([1 for i in States])\n",
    "Phi_df = pd.DataFrame(Phi, index=States, columns=Signals)"
   ]
  },
  {
   "cell_type": "markdown",
   "metadata": {},
   "source": [
    "### **Timeline**\n",
    "\n",
    "* $\\theta \\sim \\mu$\n",
    "* $s \\sim \\phi_\\theta$\n",
    "* Compute posterior\n",
    "* Give bid\n",
    "* Allocate ad\n",
    "* Calculate Revenue"
   ]
  },
  {
   "cell_type": "code",
   "execution_count": 6,
   "metadata": {},
   "outputs": [
    {
     "name": "stdout",
     "output_type": "stream",
     "text": [
      "Revenue when the state is 0: 0.9\n",
      "Posterior: [1.0, 0.0, 0.0]\n",
      "Bids: [0.9, 0.9]\n",
      "Allocation: [0.9]\n"
     ]
    }
   ],
   "source": [
    "signal = 0\n",
    "\n",
    "Posterior = [posterior(signal, state, Prior_df, Phi_df, States) for state in States]\n",
    "Bids = [bid(bidder, Posterior, Theta_df, States) for bidder in Bidders]\n",
    "Allocation = allocate(Bids, Slots)\n",
    "Theta_df_ordered = order_theta(Theta_df, Bids)\n",
    "revenue_0 = revenue(Slots, States, Posterior, Theta_df_ordered, Promminence)\n",
    "\n",
    "print(\"Revenue when the state is 0:\",revenue_0)\n",
    "print(\"Posterior:\", Posterior)\n",
    "print(\"Bids:\", Bids)\n",
    "print(\"Allocation:\", Allocation)"
   ]
  },
  {
   "cell_type": "code",
   "execution_count": 7,
   "metadata": {},
   "outputs": [
    {
     "name": "stdout",
     "output_type": "stream",
     "text": [
      "Revenue when the state is 1: 0.1\n",
      "Posterior: [0.0, 1.0, 0.0]\n",
      "Bids: [0.1, 0.9]\n",
      "Allocation: [0.9]\n"
     ]
    }
   ],
   "source": [
    "signal = 1\n",
    "\n",
    "Posterior = [posterior(signal, state, Prior_df, Phi_df, States) for state in States]\n",
    "Bids = [bid(bidder, Posterior, Theta_df, States) for bidder in Bidders]\n",
    "Allocation = allocate(Bids, Slots)\n",
    "Theta_df_ordered = order_theta(Theta_df, Bids)\n",
    "revenue_1 = revenue(Slots, States, Posterior, Theta_df_ordered, Promminence)\n",
    "\n",
    "print(\"Revenue when the state is 1:\",revenue_1)\n",
    "print(\"Posterior:\", Posterior)\n",
    "print(\"Bids:\", Bids)\n",
    "print(\"Allocation:\", Allocation)"
   ]
  },
  {
   "cell_type": "code",
   "execution_count": 8,
   "metadata": {},
   "outputs": [
    {
     "name": "stdout",
     "output_type": "stream",
     "text": [
      "Revenue when the state is 2: 0.1\n",
      "Posterior: [0.0, 0.0, 1.0]\n",
      "Bids: [0.9, 0.1]\n",
      "Allocation: [0.9]\n"
     ]
    }
   ],
   "source": [
    "signal = 2\n",
    "\n",
    "Posterior = [posterior(signal, state, Prior_df, Phi_df, States) for state in States]\n",
    "Bids = [bid(bidder, Posterior, Theta_df, States) for bidder in Bidders]\n",
    "Allocation = allocate(Bids, Slots)\n",
    "Theta_df_ordered = order_theta(Theta_df, Bids)\n",
    "revenue_2 = revenue(Slots, States, Posterior, Theta_df_ordered, Promminence)\n",
    "\n",
    "print(\"Revenue when the state is 2:\", revenue_2)\n",
    "print(\"Posterior:\", Posterior)\n",
    "print(\"Bids:\", Bids)\n",
    "print(\"Allocation:\", Allocation)"
   ]
  },
  {
   "cell_type": "code",
   "execution_count": 9,
   "metadata": {},
   "outputs": [
    {
     "name": "stdout",
     "output_type": "stream",
     "text": [
      "Expected revenue: 0.36666666666666664\n"
     ]
    }
   ],
   "source": [
    "expected_revenue = sum([revenue_i*Prior[i] for i, revenue_i in enumerate([revenue_0, revenue_1, revenue_2])])\n",
    "print(\"Expected revenue:\", expected_revenue)"
   ]
  },
  {
   "cell_type": "markdown",
   "metadata": {},
   "source": [
    "### All together"
   ]
  },
  {
   "cell_type": "code",
   "execution_count": 10,
   "metadata": {},
   "outputs": [],
   "source": [
    "def expected_revenue(States, Bidders, Slots, Theta_df, Promminence, Signals, Prior_df, Phi_df):\n",
    "    Posteriors = [[posterior(signal, state, Prior_df, Phi_df, States) for state in States] for signal in Signals]\n",
    "    expected_revenue = 0\n",
    "\n",
    "    # Test\n",
    "    check_gamma(States, Posteriors, Signals, Prior_df, Phi_df)\n",
    "    \n",
    "    for Posterior in Posteriors:\n",
    "        Bids = [bid(bidder, Posterior, Theta_df, States) for bidder in Bidders]\n",
    "        # print(\"Bids\",Bids)\n",
    "        Theta_df_ordered = order_theta(Theta_df, Bids)\n",
    "        rev = revenue(Slots, States, Posterior, Theta_df_ordered, Promminence)\n",
    "        # print(\"Revenue\",rev)\n",
    "        expected_revenue += gamma(Posterior, Signals, States, Prior_df, Phi_df)*rev\n",
    "        # print(\"Gamma\",gamma(Posterior, Signals, States, Prior_df, Phi_df))\n",
    "        print(\"\")\n",
    "    return expected_revenue"
   ]
  },
  {
   "cell_type": "code",
   "execution_count": 11,
   "metadata": {},
   "outputs": [
    {
     "name": "stdout",
     "output_type": "stream",
     "text": [
      "\n",
      "\n",
      "\n",
      "Expected revenue: 0.36666666666666664\n"
     ]
    }
   ],
   "source": [
    "expected_rev = expected_revenue(States, Bidders, Slots, Theta_df, Promminence, Signals, Prior_df, Phi_df)\n",
    "print(\"Expected revenue:\", expected_rev)"
   ]
  },
  {
   "cell_type": "markdown",
   "metadata": {},
   "source": [
    "### **State is not revealed**"
   ]
  },
  {
   "cell_type": "code",
   "execution_count": 12,
   "metadata": {},
   "outputs": [],
   "source": [
    "# No information about the state\n",
    "Signals = [0]\n",
    "\n",
    "Phi = [1 for j in States]\n",
    "Phi_df = pd.DataFrame(Phi, index=States, columns=Signals)"
   ]
  },
  {
   "cell_type": "code",
   "execution_count": 13,
   "metadata": {},
   "outputs": [
    {
     "name": "stdout",
     "output_type": "stream",
     "text": [
      "\n",
      "Expected revenue: 0.6333333333333333\n"
     ]
    }
   ],
   "source": [
    "expected_rev = expected_revenue(States, Bidders, Slots, Theta_df, Promminence, Signals, Prior_df, Phi_df)\n",
    "print(\"Expected revenue:\", expected_rev)"
   ]
  },
  {
   "cell_type": "markdown",
   "metadata": {},
   "source": [
    "## **Strategic signaling**: "
   ]
  },
  {
   "cell_type": "code",
   "execution_count": 14,
   "metadata": {},
   "outputs": [],
   "source": [
    "def compute_optimal_signaling_scheme(States, index_permutations, Slots, v_df, Promminence, Prior):    \n",
    "    Promminence.append(0)\n",
    "    m = len(Slots)\n",
    "    \n",
    "    ampl = AMPL()\n",
    "    ampl.read('model_KV.mod')\n",
    "    \n",
    "    ampl.set[\"STATES\"] = States\n",
    "    ampl.set[\"PI\"] = index_permutations\n",
    "    \n",
    "    ampl.param[\"m\"] = m\n",
    "    ampl.param[\"v\"] = v_df\n",
    "    ampl.param[\"lambda\"] = Promminence\n",
    "    ampl.param[\"mu\"] = Prior\n",
    "    \n",
    "    ampl.solve(solver='gurobi')\n",
    "    assert ampl.solve_result == \"solved\"\n",
    "    \n",
    "    obj = ampl.getObjective('obj').value()\n",
    "    x = ampl.getVariable('x').getValues().toPandas()\n",
    "    ampl.close()\n",
    "    \n",
    "    return obj, x"
   ]
  },
  {
   "cell_type": "code",
   "execution_count": 15,
   "metadata": {},
   "outputs": [],
   "source": [
    "def P(Bidders, Slots):\n",
    "    res = list(permutations(Bidders, len(Slots)))\n",
    "    res = [list(t) for t in res]\n",
    "    return res\n",
    "\n",
    "def build_v_df(Permutations, Theta_df):\n",
    "    v = []\n",
    "    for permutation in Permutations:\n",
    "        temp = Theta_df.loc[permutation, :]\n",
    "        temp = temp.reset_index(drop=True)\n",
    "        v.append(temp)\n",
    "    index = [i for i in range(len(Permutations))]\n",
    "    return pd.concat(v, keys = index)"
   ]
  },
  {
   "cell_type": "code",
   "execution_count": 16,
   "metadata": {},
   "outputs": [
    {
     "name": "stdout",
     "output_type": "stream",
     "text": [
      "Gurobi 11.0.1:Gurobi 11.0.1: optimal solution; objective 0.6333333333\n",
      "0 simplex iterations\n",
      "Result:\n",
      "Objective value: 0.6333333333333333\n",
      "X:                   x.val\n",
      "index0 index1          \n",
      "0      0       0.333333\n",
      "       1       0.333333\n",
      "       2       0.333333\n",
      "1      0       0.000000\n",
      "       1       0.000000\n",
      "       2       0.000000\n"
     ]
    }
   ],
   "source": [
    "# Slots = [0, 1] # Slots\n",
    "# Bidders = [0, 1, 2] # Bidders\n",
    "Bidders = [0, 1]\n",
    "States = [0, 1, 2]\n",
    "Slots = [0]\n",
    "Promminence = [1] \n",
    "Prior = [1/len(States) for i in States] # uniform prior\n",
    "Theta = [[0.9, 0.1, 0.9], \n",
    "        [0.9, 0.9, 0.1]]\n",
    "\n",
    "Prior_df = pd.DataFrame(Prior, index=States)\n",
    "Theta_df = pd.DataFrame(Theta, index=Bidders, columns=States)\n",
    "\n",
    "# Maximum revenue with optimal signaling scheme\n",
    "n_players = len(Bidders)\n",
    "m_slots = len(Slots)\n",
    "\n",
    "Slots_plus = Slots.copy()\n",
    "Slots_plus.append(len(Slots))\n",
    "Permutations = P(Bidders, Slots_plus)\n",
    "index_permutations = [i for i in range(len(Permutations))]\n",
    "v_df = build_v_df(Permutations, Theta_df)\n",
    "\n",
    "obj, x = compute_optimal_signaling_scheme(States, index_permutations, Slots, v_df, Promminence, Prior)\n",
    "\n",
    "print(\"Result:\")\n",
    "print(\"Objective value:\", obj)\n",
    "print(\"X:\", x)"
   ]
  },
  {
   "cell_type": "code",
   "execution_count": 17,
   "metadata": {},
   "outputs": [
    {
     "name": "stdout",
     "output_type": "stream",
     "text": [
      "Gamma: [1.0, 0.0]\n",
      "Posteriors: [[0.3333333333333333, 0.3333333333333333, 0.3333333333333333]]\n"
     ]
    }
   ],
   "source": [
    "pers = x.index.get_level_values(0).unique().values\n",
    "states = x.index.get_level_values(1).unique().values\n",
    "\n",
    "# Gamma\n",
    "gamma  = []\n",
    "for pi in pers:\n",
    "    # print(\"Permutation\", Permutations[pi])\n",
    "    sum = 0\n",
    "    for state in states:\n",
    "        sum += x.loc[pi, state].iloc[0]\n",
    "    gamma.append(sum)\n",
    "    \n",
    "print(\"Gamma:\", gamma)\n",
    "\n",
    "# Posteriors\n",
    "posteriors = []\n",
    "for pi in pers:\n",
    "    if gamma[pi] == 0:\n",
    "        continue\n",
    "    \n",
    "    posterior = []\n",
    "    for state in states:\n",
    "        posterior.append(x.loc[pi, state].iloc[0]/gamma[pi])\n",
    "    posteriors.append(posterior)\n",
    "\n",
    "print(\"Posteriors:\", posteriors)"
   ]
  },
  {
   "cell_type": "markdown",
   "metadata": {},
   "source": [
    "Giving no information about the state to the bidder is the best signaling scheme the auctioneer can do."
   ]
  }
 ],
 "metadata": {
  "kernelspec": {
   "display_name": "Python 3",
   "language": "python",
   "name": "python3"
  },
  "language_info": {
   "codemirror_mode": {
    "name": "ipython",
    "version": 3
   },
   "file_extension": ".py",
   "mimetype": "text/x-python",
   "name": "python",
   "nbconvert_exporter": "python",
   "pygments_lexer": "ipython3",
   "version": "3.11.9"
  }
 },
 "nbformat": 4,
 "nbformat_minor": 2
}
